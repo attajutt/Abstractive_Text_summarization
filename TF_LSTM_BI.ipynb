{
 "cells": [
  {
   "cell_type": "code",
   "execution_count": null,
   "metadata": {
    "collapsed": true
   },
   "outputs": [],
   "source": [
    "import clean_data_loader as cl"
   ]
  },
  {
   "cell_type": "code",
   "execution_count": null,
   "metadata": {
    "collapsed": true
   },
   "outputs": [],
   "source": [
    "from imports import *\n",
    "import tensorflow_code as tc\n",
    "\n",
    "from tensorflow.python.layers.core import Dense\n",
    "from tensorflow.python.ops.rnn_cell_impl import _zero_state_tensors\n",
    "from tensorflow.contrib.rnn import GRUCell, LSTMCell\n"
   ]
  },
  {
   "cell_type": "code",
   "execution_count": null,
   "metadata": {
    "collapsed": true
   },
   "outputs": [],
   "source": [
    "\n",
    "import time\n",
    "start_time=time.time()\n",
    "\n",
    "# Hyperparameters\n",
    "#epochs = 10\n",
    "rnn_size = 256\n",
    "batch_size = 32\n",
    "num_layers = 2\n",
    "lr = 0.001\n",
    "keep_prob = 0.75\n",
    "\n",
    "LSTM_BI_CHECKPOINTDIR = './model_checkpoints/LSTM_BI_ATTN/best_model.ckpt'\n",
    "LSTM_BI_LOSSES_PATH   = './checkpointed_data/losses/LSTM_BI_ATTN_LOSS_ARR.p'\n",
    "\n",
    "''' \n",
    "    ENCODER STYLE:    BIDIRECTIONAL\n",
    "    LSTM CELL STYLE:  LSTMCell\n",
    "    ATTENTION:        FALSE\n",
    "'''\n",
    "\n",
    "tf.reset_default_graph()\n",
    "tf.set_random_seed(1)\n",
    "tc.build_and_train_model(cl.word_embedding_matrix, \n",
    "                      rnn_size,\n",
    "                      num_layers,\n",
    "                      keep_prob,\n",
    "                      cl.vocab_to_int,\n",
    "                      batch_size,\n",
    "                      cl.sorted_summaries,\n",
    "                      cl.sorted_texts,\n",
    "                      encoder_style='bidirectional_rnn',\n",
    "                      attention=False,\n",
    "                      base_cell='LSTM',\n",
    "                      checkpoint_file=LSTM_BI_CHECKPOINTDIR,\n",
    "                      losses_arr_path=LSTM_BI_LOSSES_PATH\n",
    "                     )\n",
    "\n",
    "end_time=time.time()\n",
    "print (\"Total time taken for training is =  \",end_time-start_time)"
   ]
  }
 ],
 "metadata": {
  "kernelspec": {
   "display_name": "Python 3",
   "language": "python",
   "name": "python3"
  },
  "language_info": {
   "codemirror_mode": {
    "name": "ipython",
    "version": 3
   },
   "file_extension": ".py",
   "mimetype": "text/x-python",
   "name": "python",
   "nbconvert_exporter": "python",
   "pygments_lexer": "ipython3",
   "version": "3.5.2"
  }
 },
 "nbformat": 4,
 "nbformat_minor": 2
}
